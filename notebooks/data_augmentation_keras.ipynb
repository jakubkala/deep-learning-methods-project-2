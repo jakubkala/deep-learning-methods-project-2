{
 "cells": [
  {
   "cell_type": "code",
   "execution_count": 102,
   "metadata": {},
   "outputs": [],
   "source": [
    "import numpy as np\n",
    "import pandas as pd\n",
    "from tensorflow.keras import datasets, layers, models, regularizers\n",
    "from sklearn.model_selection import train_test_split\n",
    "\n",
    "\n",
    "\n",
    "import matplotlib.pyplot as plt\n",
    "import matplotlib.image as mpimg\n",
    "\n",
    "from tensorflow.keras.preprocessing.image import ImageDataGenerator"
   ]
  },
  {
   "cell_type": "code",
   "execution_count": 103,
   "metadata": {},
   "outputs": [],
   "source": [
    "def unpickle(file):\n",
    "    import pickle\n",
    "    with open(file, 'rb') as fo:\n",
    "        dict = pickle.load(fo, encoding='bytes')\n",
    "    return dict\n"
   ]
  },
  {
   "cell_type": "code",
   "execution_count": 106,
   "metadata": {},
   "outputs": [],
   "source": [
    "X_train = np.empty((0, 32*32*3), int)\n",
    "y_train = np.empty((0, 10), int)\n",
    "\n",
    "\n",
    "for i in range(1, 6):\n",
    "    raw_data = unpickle(f'../data/data_batch_{i}')\n",
    "    X_tmp = raw_data[b'data']\n",
    "    y_tmp = np.array(raw_data[b'labels'])\n",
    "    X_train = np.append(X_train, X_tmp, axis=0)\n",
    "    y_train = np.append(y_train, y_tmp)\n",
    "\n",
    "X_train, X_validation, y_train, y_validation = train_test_split(X_train, y_train, test_size=0.05, random_state=42)\n",
    "\n",
    "X_train = np.reshape(X_train, (-1, 32, 32, 3), order='F').transpose(0, 2, 1, 3)\n",
    "X_validation = np.reshape(X_validation, (-1, 32, 32, 3), order='F').transpose(0, 2, 1, 3)"
   ]
  },
  {
   "cell_type": "code",
   "execution_count": 107,
   "metadata": {},
   "outputs": [
    {
     "data": {
      "text/plain": [
       "<matplotlib.image.AxesImage at 0x6a5420048>"
      ]
     },
     "execution_count": 107,
     "metadata": {},
     "output_type": "execute_result"
    },
    {
     "data": {
      "image/png": "[encoded data removed]",
      "text/plain": [
       "<Figure size 432x288 with 1 Axes>"
      ]
     },
     "metadata": {
      "needs_background": "light"
     },
     "output_type": "display_data"
    }
   ],
   "source": [
    "plt.imshow(X_train[1])"
   ]
  },
  {
   "cell_type": "code",
   "execution_count": 108,
   "metadata": {},
   "outputs": [],
   "source": [
    "image_generator = ImageDataGenerator(featurewise_center=True,\n",
    "                                     rotation_range=30,\n",
    "                                     width_shift_range=0.05,\n",
    "                                     height_shift_range=0.05,\n",
    "                                     zoom_range=0.1,\n",
    "                                     brightness_range=(0.9, 1.1))"
   ]
  },
  {
   "cell_type": "code",
   "execution_count": 109,
   "metadata": {},
   "outputs": [],
   "source": [
    "image_generator.fit(X_train)"
   ]
  },
  {
   "cell_type": "code",
   "execution_count": 116,
   "metadata": {},
   "outputs": [],
   "source": [
    "train_generator = image_generator.flow(X_train, y_train, batch_size=64)\n",
    "test_generator = image_generator.flow(X_validation, y_validation, batch_size=64)"
   ]
  },
  {
   "cell_type": "code",
   "execution_count": 117,
   "metadata": {},
   "outputs": [],
   "source": [
    "import tensorflow as tf\n",
    "from tensorflow import keras"
   ]
  },
  {
   "cell_type": "code",
   "execution_count": 118,
   "metadata": {},
   "outputs": [],
   "source": [
    "simple_cnn = keras.Sequential()"
   ]
  },
  {
   "cell_type": "code",
   "execution_count": 119,
   "metadata": {},
   "outputs": [],
   "source": [
    "simple_cnn.add(layers.Conv2D(32, (3, 3), activation='relu', input_shape=(32, 32, 3)))\n",
    "simple_cnn.add(layers.MaxPooling2D((2, 2)))\n",
    "simple_cnn.add(layers.Conv2D(64, (3, 3), activation='relu'))\n",
    "simple_cnn.add(layers.MaxPooling2D((2, 2)))\n",
    "simple_cnn.add(layers.Conv2D(128, (3, 3), activation='relu'))\n",
    "simple_cnn.add(layers.Flatten())\n",
    "simple_cnn.add(layers.Dense(64, activation='relu'))\n",
    "simple_cnn.add(layers.Dense(64, activation='relu'))\n",
    "simple_cnn.add(layers.Dense(10))"
   ]
  },
  {
   "cell_type": "code",
   "execution_count": null,
   "metadata": {},
   "outputs": [
    {
     "name": "stdout",
     "output_type": "stream",
     "text": [
      "Epoch 1/5\n",
      "1024/1024 [==============================] - 229s 223ms/step - loss: 1.5357 - accuracy: 0.4366 - val_loss: 1.3806 - val_accuracy: 0.4953\n",
      "Epoch 2/5\n",
      "1024/1024 [==============================] - 246s 240ms/step - loss: 1.3067 - accuracy: 0.5330 - val_loss: 1.2684 - val_accuracy: 0.5433\n",
      "Epoch 3/5\n",
      "1024/1024 [==============================] - 232s 226ms/step - loss: 1.1881 - accuracy: 0.5808 - val_loss: 1.2002 - val_accuracy: 0.5754\n",
      "Epoch 4/5\n",
      "1024/1024 [==============================] - 223s 218ms/step - loss: 1.1219 - accuracy: 0.6093 - val_loss: 1.1253 - val_accuracy: 0.6003\n",
      "Epoch 5/5\n",
      " 172/1024 [====>.........................] - ETA: 2:21 - loss: 1.1164 - accuracy: 0.6130"
     ]
    }
   ],
   "source": [
    "simple_cnn.compile(optimizer='adam',\n",
    "              loss=tf.keras.losses.SparseCategoricalCrossentropy(from_logits=True),\n",
    "              metrics=['accuracy'])\n",
    "\n",
    "simple_cnn.fit_generator(train_generator,\n",
    "                    steps_per_epoch=1024,\n",
    "                    epochs=5,\n",
    "                    validation_data=test_generator,\n",
    "                    validation_steps=800)"
   ]
  },
  {
   "cell_type": "code",
   "execution_count": null,
   "metadata": {},
   "outputs": [],
   "source": []
  }
 ],
 "metadata": {
  "kernelspec": {
   "display_name": "Python (ml-cpu)",
   "language": "python",
   "name": "ml-cpu"
  },
  "language_info": {
   "codemirror_mode": {
    "name": "ipython",
    "version": 3
   },
   "file_extension": ".py",
   "mimetype": "text/x-python",
   "name": "python",
   "nbconvert_exporter": "python",
   "pygments_lexer": "ipython3",
   "version": "3.6.10"
  }
 },
 "nbformat": 4,
 "nbformat_minor": 2
}
