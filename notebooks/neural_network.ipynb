{
 "cells": [
  {
   "cell_type": "code",
   "execution_count": 1,
   "metadata": {},
   "outputs": [],
   "source": [
    "import tensorflow as tf\n",
    "from tensorflow import keras\n",
    "from tensorflow.keras import datasets, layers, models\n",
    "\n",
    "from data_preprocessing import one_hot_encode\n",
    "from sklearn.model_selection import train_test_split\n",
    "\n",
    "import numpy as np\n",
    "import pandas as pd\n",
    "\n",
    "import matplotlib.image as mpimg\n",
    "import matplotlib.pyplot as plt"
   ]
  },
  {
   "cell_type": "code",
   "execution_count": 2,
   "metadata": {},
   "outputs": [],
   "source": [
    "def unpickle(file):\n",
    "    import pickle\n",
    "    with open(file, 'rb') as fo:\n",
    "        dict = pickle.load(fo, encoding='bytes')\n",
    "    return dict"
   ]
  },
  {
   "cell_type": "code",
   "execution_count": 3,
   "metadata": {},
   "outputs": [],
   "source": [
    "X_train = np.empty((0, 32, 32, 3), int)\n",
    "y_train = np.empty((0, 10), int)\n",
    "\n",
    "\n",
    "for i in range(1, 6):\n",
    "    raw_data = unpickle(f'../data/data_batch_{i}')\n",
    "    X_tmp = raw_data[b'data']\n",
    "    X_tmp = np.reshape(X_tmp, (-1, 32, 32, 3), order='F').transpose(0, 2, 1, 3)\n",
    "    y_tmp = np.array(raw_data[b'labels'])\n",
    "    X_train = np.append(X_train, X_tmp, axis=0)\n",
    "    y_train = np.append(y_train, y_tmp)\n",
    "\n",
    "X_train, X_validation, y_train, y_validation = train_test_split(X_train, y_train, test_size=0.05, random_state=42)"
   ]
  },
  {
   "cell_type": "code",
   "execution_count": 4,
   "metadata": {},
   "outputs": [],
   "source": [
    "model = keras.Sequential()"
   ]
  },
  {
   "cell_type": "code",
   "execution_count": 5,
   "metadata": {},
   "outputs": [],
   "source": [
    "model.add(layers.Conv2D(128, (3, 3), activation='relu', input_shape=(32, 32, 3)))\n",
    "model.add(layers.MaxPooling2D((2, 2)))\n",
    "model.add(layers.Conv2D(64, (3, 3), activation='relu'))\n",
    "model.add(layers.MaxPooling2D((2, 2)))\n",
    "model.add(layers.Conv2D(32, (3, 3), activation='relu'))\n",
    "model.add(layers.Flatten())\n",
    "model.add(layers.Dense(64, activation='relu'))\n",
    "model.add(layers.Dense(64, activation='relu'))\n",
    "model.add(layers.Dense(10))"
   ]
  },
  {
   "cell_type": "code",
   "execution_count": 6,
   "metadata": {},
   "outputs": [
    {
     "name": "stdout",
     "output_type": "stream",
     "text": [
      "Model: \"sequential\"\n",
      "_________________________________________________________________\n",
      "Layer (type)                 Output Shape              Param #   \n",
      "=================================================================\n",
      "conv2d (Conv2D)              (None, 30, 30, 128)       3584      \n",
      "_________________________________________________________________\n",
      "max_pooling2d (MaxPooling2D) (None, 15, 15, 128)       0         \n",
      "_________________________________________________________________\n",
      "conv2d_1 (Conv2D)            (None, 13, 13, 64)        73792     \n",
      "_________________________________________________________________\n",
      "max_pooling2d_1 (MaxPooling2 (None, 6, 6, 64)          0         \n",
      "_________________________________________________________________\n",
      "conv2d_2 (Conv2D)            (None, 4, 4, 32)          18464     \n",
      "_________________________________________________________________\n",
      "flatten (Flatten)            (None, 512)               0         \n",
      "_________________________________________________________________\n",
      "dense (Dense)                (None, 64)                32832     \n",
      "_________________________________________________________________\n",
      "dense_1 (Dense)              (None, 64)                4160      \n",
      "_________________________________________________________________\n",
      "dense_2 (Dense)              (None, 10)                650       \n",
      "=================================================================\n",
      "Total params: 133,482\n",
      "Trainable params: 133,482\n",
      "Non-trainable params: 0\n",
      "_________________________________________________________________\n"
     ]
    }
   ],
   "source": [
    "model.summary()"
   ]
  },
  {
   "cell_type": "code",
   "execution_count": 7,
   "metadata": {},
   "outputs": [],
   "source": [
    "model.compile(optimizer='adam',\n",
    "              loss=tf.keras.losses.SparseCategoricalCrossentropy(from_logits=True),\n",
    "              metrics=['accuracy'])"
   ]
  },
  {
   "cell_type": "code",
   "execution_count": null,
   "metadata": {},
   "outputs": [
    {
     "name": "stdout",
     "output_type": "stream",
     "text": [
      "Train on 47500 samples, validate on 2500 samples\n",
      "Epoch 1/50\n",
      "47500/47500 [==============================] - 119s 3ms/sample - loss: 2.2160 - accuracy: 0.1703 - val_loss: 1.8881 - val_accuracy: 0.2920\n",
      "Epoch 2/50\n",
      "47500/47500 [==============================] - 118s 2ms/sample - loss: 1.8247 - accuracy: 0.3150 - val_loss: 1.7329 - val_accuracy: 0.3444\n",
      "Epoch 3/50\n",
      "47500/47500 [==============================] - 118s 2ms/sample - loss: 1.6243 - accuracy: 0.4036 - val_loss: 1.5188 - val_accuracy: 0.4544\n",
      "Epoch 4/50\n",
      "47500/47500 [==============================] - 118s 2ms/sample - loss: 1.4462 - accuracy: 0.4760 - val_loss: 1.3389 - val_accuracy: 0.5128\n",
      "Epoch 5/50\n",
      "47500/47500 [==============================] - 118s 2ms/sample - loss: 1.3123 - accuracy: 0.5305 - val_loss: 1.2915 - val_accuracy: 0.5196\n",
      "Epoch 6/50\n",
      "47500/47500 [==============================] - 118s 2ms/sample - loss: 1.2131 - accuracy: 0.5713 - val_loss: 1.2156 - val_accuracy: 0.5652\n",
      "Epoch 7/50\n",
      "47500/47500 [==============================] - 120s 3ms/sample - loss: 1.1446 - accuracy: 0.5945 - val_loss: 1.1714 - val_accuracy: 0.5784\n",
      "Epoch 8/50\n",
      "47500/47500 [==============================] - 118s 2ms/sample - loss: 1.0949 - accuracy: 0.6143 - val_loss: 1.1658 - val_accuracy: 0.6012\n",
      "Epoch 9/50\n",
      "47500/47500 [==============================] - 118s 2ms/sample - loss: 1.0366 - accuracy: 0.6332 - val_loss: 1.1373 - val_accuracy: 0.5864\n",
      "Epoch 10/50\n",
      "47500/47500 [==============================] - 120s 3ms/sample - loss: 0.9923 - accuracy: 0.6482 - val_loss: 1.0819 - val_accuracy: 0.6212\n",
      "Epoch 11/50\n",
      "47500/47500 [==============================] - 119s 3ms/sample - loss: 0.9537 - accuracy: 0.6645 - val_loss: 1.1554 - val_accuracy: 0.6044\n",
      "Epoch 12/50\n",
      "47500/47500 [==============================] - 119s 3ms/sample - loss: 0.9119 - accuracy: 0.6777 - val_loss: 1.1237 - val_accuracy: 0.6084\n",
      "Epoch 13/50\n",
      "47500/47500 [==============================] - 119s 3ms/sample - loss: 0.8796 - accuracy: 0.6895 - val_loss: 1.2234 - val_accuracy: 0.5960\n",
      "Epoch 14/50\n",
      "47500/47500 [==============================] - 119s 3ms/sample - loss: 0.8411 - accuracy: 0.7034 - val_loss: 1.0974 - val_accuracy: 0.6284\n",
      "Epoch 15/50\n",
      "47500/47500 [==============================] - 119s 3ms/sample - loss: 0.8175 - accuracy: 0.7134 - val_loss: 1.1517 - val_accuracy: 0.6376\n",
      "Epoch 16/50\n",
      "47500/47500 [==============================] - 119s 3ms/sample - loss: 0.7951 - accuracy: 0.7224 - val_loss: 1.1031 - val_accuracy: 0.6376\n",
      "Epoch 17/50\n",
      "47500/47500 [==============================] - 119s 3ms/sample - loss: 0.7660 - accuracy: 0.7304 - val_loss: 1.1467 - val_accuracy: 0.6384\n",
      "Epoch 18/50\n",
      "47500/47500 [==============================] - 119s 3ms/sample - loss: 0.7444 - accuracy: 0.7376 - val_loss: 1.1549 - val_accuracy: 0.6372\n",
      "Epoch 19/50\n",
      "47500/47500 [==============================] - 120s 3ms/sample - loss: 0.7241 - accuracy: 0.7466 - val_loss: 1.1149 - val_accuracy: 0.6444\n",
      "Epoch 20/50\n",
      "47500/47500 [==============================] - 119s 3ms/sample - loss: 0.7088 - accuracy: 0.7514 - val_loss: 1.1263 - val_accuracy: 0.6348\n",
      "Epoch 21/50\n",
      "47500/47500 [==============================] - 119s 3ms/sample - loss: 0.6865 - accuracy: 0.7601 - val_loss: 1.2197 - val_accuracy: 0.6308\n",
      "Epoch 22/50\n",
      "47500/47500 [==============================] - 122s 3ms/sample - loss: 0.6730 - accuracy: 0.7631 - val_loss: 1.2322 - val_accuracy: 0.6264\n",
      "Epoch 23/50\n",
      "47500/47500 [==============================] - 121s 3ms/sample - loss: 0.6557 - accuracy: 0.7703 - val_loss: 1.2764 - val_accuracy: 0.6264\n",
      "Epoch 24/50\n",
      "47500/47500 [==============================] - 121s 3ms/sample - loss: 0.6431 - accuracy: 0.7737 - val_loss: 1.2265 - val_accuracy: 0.6340\n",
      "Epoch 25/50\n",
      "47500/47500 [==============================] - 121s 3ms/sample - loss: 0.6235 - accuracy: 0.7810 - val_loss: 1.2946 - val_accuracy: 0.6308\n",
      "Epoch 26/50\n",
      "47500/47500 [==============================] - 121s 3ms/sample - loss: 0.6174 - accuracy: 0.7858 - val_loss: 1.2911 - val_accuracy: 0.6308\n",
      "Epoch 27/50\n",
      "47500/47500 [==============================] - 121s 3ms/sample - loss: 0.6020 - accuracy: 0.7902 - val_loss: 1.3159 - val_accuracy: 0.6392\n",
      "Epoch 28/50\n",
      "47500/47500 [==============================] - 121s 3ms/sample - loss: 0.5898 - accuracy: 0.7948 - val_loss: 1.3301 - val_accuracy: 0.6296\n",
      "Epoch 29/50\n",
      "47500/47500 [==============================] - 121s 3ms/sample - loss: 0.5760 - accuracy: 0.7994 - val_loss: 1.4134 - val_accuracy: 0.6192\n",
      "Epoch 30/50\n",
      "47500/47500 [==============================] - 121s 3ms/sample - loss: 0.5712 - accuracy: 0.8017 - val_loss: 1.4573 - val_accuracy: 0.6120\n",
      "Epoch 31/50\n",
      "47500/47500 [==============================] - 121s 3ms/sample - loss: 0.5582 - accuracy: 0.8060 - val_loss: 1.3888 - val_accuracy: 0.6352\n",
      "Epoch 32/50\n",
      "47500/47500 [==============================] - 121s 3ms/sample - loss: 0.5415 - accuracy: 0.8095 - val_loss: 1.4412 - val_accuracy: 0.6384\n",
      "Epoch 33/50\n",
      "47500/47500 [==============================] - 120s 3ms/sample - loss: 0.5303 - accuracy: 0.8173 - val_loss: 1.4400 - val_accuracy: 0.6300\n",
      "Epoch 34/50\n",
      "47500/47500 [==============================] - 120s 3ms/sample - loss: 0.5228 - accuracy: 0.8195 - val_loss: 1.4689 - val_accuracy: 0.6344\n",
      "Epoch 35/50\n",
      "47500/47500 [==============================] - 120s 3ms/sample - loss: 0.5239 - accuracy: 0.8196 - val_loss: 1.4587 - val_accuracy: 0.6424\n",
      "Epoch 36/50\n",
      "47500/47500 [==============================] - 120s 3ms/sample - loss: 0.5077 - accuracy: 0.8239 - val_loss: 1.4569 - val_accuracy: 0.6260\n",
      "Epoch 37/50\n",
      "47500/47500 [==============================] - 121s 3ms/sample - loss: 0.4978 - accuracy: 0.8274 - val_loss: 1.5741 - val_accuracy: 0.6324\n",
      "Epoch 38/50\n",
      "47500/47500 [==============================] - 120s 3ms/sample - loss: 0.4994 - accuracy: 0.8282 - val_loss: 1.5913 - val_accuracy: 0.6336\n",
      "Epoch 39/50\n",
      "47500/47500 [==============================] - 120s 3ms/sample - loss: 0.4915 - accuracy: 0.8293 - val_loss: 1.5697 - val_accuracy: 0.6180\n",
      "Epoch 40/50\n",
      "47500/47500 [==============================] - 121s 3ms/sample - loss: 0.4919 - accuracy: 0.8329 - val_loss: 1.6442 - val_accuracy: 0.6232\n",
      "Epoch 41/50\n",
      "47500/47500 [==============================] - 121s 3ms/sample - loss: 0.4811 - accuracy: 0.8351 - val_loss: 1.6371 - val_accuracy: 0.6252\n",
      "Epoch 42/50\n",
      "47500/47500 [==============================] - 120s 3ms/sample - loss: 0.4747 - accuracy: 0.8361 - val_loss: 1.7254 - val_accuracy: 0.6124\n",
      "Epoch 43/50\n",
      "47500/47500 [==============================] - 122s 3ms/sample - loss: 0.4638 - accuracy: 0.8418 - val_loss: 1.6020 - val_accuracy: 0.6328\n",
      "Epoch 44/50\n",
      "41152/47500 [========================>.....] - ETA: 15s - loss: 0.4547 - accuracy: 0.8452"
     ]
    }
   ],
   "source": [
    "model.fit(X_train, y_train, epochs=50, validation_data=(X_validation, y_validation))"
   ]
  },
  {
   "cell_type": "code",
   "execution_count": null,
   "metadata": {},
   "outputs": [],
   "source": []
  },
  {
   "cell_type": "code",
   "execution_count": null,
   "metadata": {},
   "outputs": [],
   "source": []
  }
 ],
 "metadata": {
  "kernelspec": {
   "display_name": "Python (ml-cpu)",
   "language": "python",
   "name": "ml-cpu"
  },
  "language_info": {
   "codemirror_mode": {
    "name": "ipython",
    "version": 3
   },
   "file_extension": ".py",
   "mimetype": "text/x-python",
   "name": "python",
   "nbconvert_exporter": "python",
   "pygments_lexer": "ipython3",
   "version": "3.6.10"
  }
 },
 "nbformat": 4,
 "nbformat_minor": 4
}
